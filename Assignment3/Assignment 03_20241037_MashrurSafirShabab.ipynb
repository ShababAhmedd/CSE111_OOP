{
 "cells": [
  {
   "cell_type": "code",
   "execution_count": 2,
   "metadata": {},
   "outputs": [
    {
     "name": "stdout",
     "output_type": "stream",
     "text": [
      "Integer\n",
      "1234\n",
      "=====================\n",
      "String\n",
      "Hello\n",
      "=====================\n",
      "Float\n",
      "4.0\n"
     ]
    }
   ],
   "source": [
    "#TASK1\n",
    "\n",
    "class DataType:\n",
    "    \n",
    "    def __init__ (self,name,value):\n",
    "        self.name = name\n",
    "        self.value = value\n",
    "        \n",
    "data_type1 = DataType('Integer', 1234)\n",
    "print(data_type1.name)\n",
    "print(data_type1.value)\n",
    "print('=====================')\n",
    "data_type2 = DataType('String', 'Hello')\n",
    "print(data_type2.name)\n",
    "print(data_type2.value)\n",
    "print('=====================')\n",
    "data_type3 = DataType('Float', 4.0)\n",
    "print(data_type3.name)\n",
    "print(data_type3.value)"
   ]
  },
  {
   "cell_type": "code",
   "execution_count": 8,
   "metadata": {},
   "outputs": [
    {
     "name": "stdout",
     "output_type": "stream",
     "text": [
      "Name of this flower: Rose\n",
      "Color of this flower: Red\n",
      "Number of petal: 6\n",
      "=====================\n",
      "Name of this flower: Orchid\n",
      "Color of this flower: Purple\n",
      "Number of petal: 4\n",
      "=====================\n",
      "<__main__.Flower object at 0x7faf77cf9220>\n",
      "<__main__.Flower object at 0x7faf77cf9b20>\n",
      "they are different\n"
     ]
    }
   ],
   "source": [
    "#Task2\n",
    "\n",
    "class Flower:\n",
    "    \n",
    "    def __init__ (self):\n",
    "        self.name = None\n",
    "        self.color = None\n",
    "        self.num_of_petal = None\n",
    "        \n",
    "flower1 = Flower()\n",
    "flower1.name=\"Rose\"\n",
    "flower1.color=\"Red\"\n",
    "flower1.num_of_petal=6\n",
    "print(\"Name of this flower:\", flower1.name)\n",
    "print(\"Color of this flower:\",flower1.color)\n",
    "print(\"Number of petal:\",flower1.num_of_petal)\n",
    "print(\"=====================\")\n",
    "flower2 = Flower()\n",
    "flower2.name=\"Orchid\"\n",
    "flower2.color=\"Purple\"\n",
    "flower2.num_of_petal=4\n",
    "print(\"Name of this flower:\",flower2.name)\n",
    "print(\"Color of this flower:\",flower2.color)\n",
    "print (\"Number of petal:\",flower2. num_of_petal)\n",
    "print(\"=====================\")\n",
    "x = flower1\n",
    "print (x)\n",
    "y = flower2\n",
    "print (y)\n",
    "if x != y:\n",
    "    print ('they are different')\n",
    "else:\n",
    "    print ('they are same')"
   ]
  },
  {
   "cell_type": "code",
   "execution_count": 23,
   "metadata": {},
   "outputs": [
    {
     "name": "stdout",
     "output_type": "stream",
     "text": [
      "Name of President: Aladeen\n",
      "Designation: President Prime Minister Admiral General\n",
      "Number of wife: 100\n",
      "Is he/she a dictator: True\n",
      "===============================================================\n",
      "Name of President: Donald Trump\n",
      "Designation: President\n",
      "Number of wife: 1\n",
      "Is he/she a dictator: False\n",
      "===============================================================\n",
      "previous information lost\n"
     ]
    }
   ],
   "source": [
    "#Task3\n",
    "\n",
    "class Wadiya():\n",
    "    \n",
    "    def __init__(self):\n",
    "        self.name = 'Aladeen'\n",
    "        self.designation = 'President Prime Minister Admiral General'\n",
    "        self.num_of_wife = 100\n",
    "        self.dictator = True\n",
    "\n",
    "name1 = Wadiya()\n",
    "print (\"Name of President:\",name1.name)\n",
    "print (\"Designation:\",name1.designation)\n",
    "print (\"Number of wife:\",name1.num_of_wife)\n",
    "if name1.dictator == True:\n",
    "    print (\"Is he/she a dictator:\",name1.dictator)\n",
    "else:\n",
    "    print (\"Is he/she a dictator:\",name1.dictator)\n",
    "print(\"===============================================================\")\n",
    "name1 = Wadiya()\n",
    "name1.name = 'Donald Trump'\n",
    "print (\"Name of President:\",name1.name)\n",
    "name1.designation = \"President\"\n",
    "print (\"Designation:\",name1.designation)\n",
    "name1.num_of_wife = 1\n",
    "print (\"Number of wife:\",name1.num_of_wife)\n",
    "name1.dictator = False\n",
    "if name1.dictator == True:\n",
    "    print (\"Is he/she a dictator:\",name1.dictator)\n",
    "else:\n",
    "    print (\"Is he/she a dictator:\",name1.dictator)\n",
    "print(\"===============================================================\")\n",
    "print ('previous information lost')"
   ]
  },
  {
   "cell_type": "code",
   "execution_count": 25,
   "metadata": {},
   "outputs": [
    {
     "name": "stdout",
     "output_type": "stream",
     "text": [
      "Heath Ledger\n",
      "Mind Game\n",
      "False\n",
      "=====================\n",
      "Joaquin Phoenix\n",
      "Laughing out Loud\n",
      "True\n",
      "=====================\n",
      "different\n",
      "same\n",
      "=====================\n",
      "different since the ram location are different\n",
      "same since both the words are same\n"
     ]
    }
   ],
   "source": [
    "#Task4\n",
    "\n",
    "class Joker():\n",
    "    \n",
    "    def __init__ (self,name,power,is_he_psycho):\n",
    "        self.name = name\n",
    "        self.power = power\n",
    "        self.is_he_psycho = is_he_psycho\n",
    "        \n",
    "#Write your class code here\n",
    "j1 = Joker('Heath Ledger', 'Mind Game', False)\n",
    "print(j1.name)\n",
    "print(j1.power)\n",
    "print(j1.is_he_psycho)\n",
    "print(\"=====================\")\n",
    "j2 = Joker('Joaquin Phoenix', 'Laughing out Loud', True)\n",
    "print(j2.name)\n",
    "print(j2.power)\n",
    "print(j2.is_he_psycho)\n",
    "print(\"=====================\")\n",
    "if j1 == j2:\n",
    "    print('same')\n",
    "else:\n",
    "    print('different')\n",
    "j2.name = 'Heath Ledger'\n",
    "if j1.name == j2.name:\n",
    "    print('same')\n",
    "else:\n",
    "    print('different')\n",
    "#Write your code for 2,3 here\n",
    "print(\"=====================\")\n",
    "print ('different since the ram location are different')\n",
    "print ('same since both the words are same')"
   ]
  },
  {
   "cell_type": "code",
   "execution_count": 29,
   "metadata": {},
   "outputs": [
    {
     "name": "stdout",
     "output_type": "stream",
     "text": [
      "=======Team 1=======\n",
      "Pokemon 1: pikachu 90\n",
      "Pokemon 2: charmander 60\n",
      "Combined Power: 1500\n",
      "=======Team 1=======\n",
      "Pokemon 1: bulbasaur 80\n",
      "Pokemon 2: squirtle 70\n",
      "Combined Power: 1350\n"
     ]
    }
   ],
   "source": [
    "#Task5\n",
    "\n",
    "class Pokemon():\n",
    "    \n",
    "    def __init__ (self,pokemon_1_name,pokemon_2_name,pokemon_1_power,pokemon_2_power,damage_rate_respectively):\n",
    "        self.pokemon1_name = pokemon_1_name\n",
    "        self.pokemon2_name = pokemon_2_name\n",
    "        self.pokemon1_power = pokemon_1_power\n",
    "        self.pokemon2_power = pokemon_2_power\n",
    "        self.damage_rate = damage_rate_respectively\n",
    "        \n",
    "team_pika = Pokemon('pikachu', 'charmander', 90, 60, 10)\n",
    "print('=======Team 1=======')\n",
    "print('Pokemon 1:',team_pika.pokemon1_name,\n",
    "team_pika.pokemon1_power)\n",
    "print('Pokemon 2:',team_pika.pokemon2_name,\n",
    "team_pika.pokemon2_power)\n",
    "pika_combined_power = (team_pika.pokemon1_power +\n",
    "team_pika.pokemon2_power) * team_pika.damage_rate\n",
    "print('Combined Power:', pika_combined_power)\n",
    "\n",
    "#Write your code for subtask 2,3,4 here\n",
    "\n",
    "team_bulb = Pokemon('bulbasaur', 'squirtle', 80, 70,\n",
    "9)\n",
    "print('=======Team 1=======')\n",
    "print('Pokemon 1:',team_bulb.pokemon1_name,\n",
    "team_bulb.pokemon1_power)\n",
    "print('Pokemon 2:',team_bulb.pokemon2_name,\n",
    "team_bulb.pokemon2_power)\n",
    "pika_combined_power = (team_bulb.pokemon1_power +\n",
    "team_bulb.pokemon2_power) * team_bulb.damage_rate\n",
    "print('Combined Power:', pika_combined_power)"
   ]
  },
  {
   "cell_type": "code",
   "execution_count": 31,
   "metadata": {},
   "outputs": [
    {
     "name": "stdout",
     "output_type": "stream",
     "text": [
      "Name of the Player: Ronaldo\n",
      "Jersey Number of player: 9\n",
      "Position of player: Striker\n",
      "===========================\n",
      "Name of the player: Neuer\n",
      "Jersey Number of player: 1\n",
      "Position of player: Goal Keeper\n"
     ]
    }
   ],
   "source": [
    "#Task6\n",
    "\n",
    "# Write Your Class Code Here\n",
    "\n",
    "class Player:\n",
    "    \n",
    "    def __init__ (self):\n",
    "        self.name = None\n",
    "        self.jersy_number = None\n",
    "        self.position = None\n",
    "        \n",
    "player1 = Player()\n",
    "player1.name = \"Ronaldo\"\n",
    "player1.jersy_number = 9\n",
    "player1.position = \"Striker\"\n",
    "print(\"Name of the Player:\", player1.name)\n",
    "print(\"Jersey Number of player:\", player1.jersy_number)\n",
    "print(\"Position of player:\", player1.position)\n",
    "print(\"===========================\")\n",
    "player2 = Player()\n",
    "player2.name = \"Neuer\"\n",
    "player2.jersy_number = 1\n",
    "player2.position = \"Goal Keeper\"\n",
    "print(\"Name of the player:\", player2.name)\n",
    "print(\"Jersey Number of player:\", player2.jersy_number)\n",
    "print(\"Position of player:\", player2.position)"
   ]
  },
  {
   "cell_type": "code",
   "execution_count": 45,
   "metadata": {},
   "outputs": [
    {
     "name": "stdout",
     "output_type": "stream",
     "text": [
      "Name: Bangladesh\n",
      "Continent: Asia\n",
      "Capital: Dhaka\n",
      "Fifa Ranking: 187\n",
      "===================\n",
      "Name: Belgium\n",
      "Continent: Europe\n",
      "Capital: Brussels\n",
      "Fifa Ranking: 1\n"
     ]
    }
   ],
   "source": [
    "#Task7\n",
    "\n",
    "# Write your Class Code here\n",
    "\n",
    "class Country:\n",
    "    \n",
    "    def __init__ (self, ontinent=\"Asia\",capital=\"Dhaka\",fifa_ranking=187):\n",
    "        self.name = name\n",
    "        self.continent = continent\n",
    "        self.capital = capital\n",
    "        self.fifa_ranking = fifa_ranking\n",
    "        \n",
    "country = Country()\n",
    "print('Name:',country.name)\n",
    "print('Continent:',country.continent)\n",
    "print('Capital:',country.capital)\n",
    "print('Fifa Ranking:',country.fifa_ranking)\n",
    "print('===================')\n",
    "country.name = \"Belgium\"\n",
    "country.continent = \"Europe\" \n",
    "country.capital = \"Brussels\"\n",
    "country.fifa_ranking = 1\n",
    "print('Name:',country.name)\n",
    "print('Continent:',country.continent)\n",
    "print('Capital:',country.capital)\n",
    "print('Fifa Ranking:',country.fifa_ranking)"
   ]
  },
  {
   "cell_type": "code",
   "execution_count": 67,
   "metadata": {},
   "outputs": [
    {
     "name": "stdout",
     "output_type": "stream",
     "text": [
      "Name: Tanjiro\n",
      "Fighting Style: Water Breathing\n",
      "Knows 10 technique(s) and has killed 10 demon(s)\n",
      "===================\n",
      "Name: Zenitsu\n",
      "Fighting Style: Thunder Breathing\n",
      "Knows 1 technique(s) and has killed 4 demon(s)\n",
      "===================\n",
      "Name: Inosuke\n",
      "Fighting Style: Beast Breathing\n",
      "Knows 5 technique(s) and has killed 7 demon(s)\n",
      "===================\n",
      "Tanjiro Zenitsu Inosuke knows total 16 techniques\n",
      "They have killed total 21 demons\n"
     ]
    }
   ],
   "source": [
    "#TAsk8\n",
    "\n",
    "# Write your Class Code here\n",
    "\n",
    "class DemonSlayer:\n",
    "    \n",
    "    def __init__ (self,name, style, number_of_technique, kill):\n",
    "        self.name = name\n",
    "        self.style = style\n",
    "        self.number_of_technique = number_of_technique\n",
    "        self.kill = kill\n",
    "tanjiro = DemonSlayer(\"Tanjiro\", \"Water Breathing\", 10, 10)\n",
    "print('Name:',tanjiro.name)\n",
    "print('Fighting Style:',tanjiro.style)\n",
    "print(f'Knows',(tanjiro.number_of_technique),'technique(s) and has killed',(tanjiro.kill),'demon(s)')\n",
    "print('===================')\n",
    "zenitsu = DemonSlayer(\"Zenitsu\", \"Thunder Breathing\", 1, 4)\n",
    "print('Name:',zenitsu.name)\n",
    "print('Fighting Style:',zenitsu.style)\n",
    "print(f'Knows',(zenitsu.number_of_technique),'technique(s) and has killed',(zenitsu.kill),'demon(s)')\n",
    "print('===================')\n",
    "inosuke = DemonSlayer(\"Inosuke\", \"Beast Breathing\", 5, 7)\n",
    "print('Name:',inosuke.name)\n",
    "print('Fighting Style:',inosuke.style)\n",
    "print(f'Knows',(inosuke.number_of_technique),'technique(s) and has killed',(inosuke.kill),'demon(s)')\n",
    "print('===================')\n",
    "print((tanjiro.name),(zenitsu.name),(inosuke.name),f'knows total',(tanjiro.number_of_technique + zenitsu.number_of_technique + inosuke.number_of_technique),'techniques')\n",
    "print(f'They have killed total',(tanjiro.kill + zenitsu.kill + inosuke.kill),'demons')"
   ]
  },
  {
   "cell_type": "code",
   "execution_count": null,
   "metadata": {},
   "outputs": [],
   "source": []
  }
 ],
 "metadata": {
  "kernelspec": {
   "display_name": "Python 3",
   "language": "python",
   "name": "python3"
  },
  "language_info": {
   "codemirror_mode": {
    "name": "ipython",
    "version": 3
   },
   "file_extension": ".py",
   "mimetype": "text/x-python",
   "name": "python",
   "nbconvert_exporter": "python",
   "pygments_lexer": "ipython3",
   "version": "3.8.3"
  }
 },
 "nbformat": 4,
 "nbformat_minor": 4
}
