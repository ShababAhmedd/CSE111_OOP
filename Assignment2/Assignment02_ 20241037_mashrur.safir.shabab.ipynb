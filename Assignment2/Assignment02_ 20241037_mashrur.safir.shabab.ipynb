{
 "cells": [
  {
   "cell_type": "code",
   "execution_count": 54,
   "metadata": {},
   "outputs": [
    {
     "name": "stdout",
     "output_type": "stream",
     "text": [
      "0.5\n",
      "0\n",
      "0\n"
     ]
    }
   ],
   "source": [
    "#Task1\n",
    "def div(denominator,numenator):\n",
    "    if denominator == 0:\n",
    "        sub = 0\n",
    "        print (sub)\n",
    "    else:\n",
    "        div1 = denominator/numenator\n",
    "        div2 = denominator//numenator\n",
    "        sub = div1-div2\n",
    "        print (sub)\n",
    "\n",
    "div(5,2)\n",
    "div(0,5)\n",
    "div(0,5)"
   ]
  },
  {
   "cell_type": "code",
   "execution_count": 8,
   "metadata": {},
   "outputs": [
    {
     "name": "stdout",
     "output_type": "stream",
     "text": [
      "Score is 31.346938775510203 .You are Obese\n",
      "Score is 20.775623268698062 .You are Normal\n"
     ]
    }
   ],
   "source": [
    "#Task2\n",
    "def BMI(height, weight):\n",
    "    \n",
    "    bmi = weight/(0.01*height)**2\n",
    "    result = bmi\n",
    "    \n",
    "    if bmi<18.5:\n",
    "        condition ='Underweight'\n",
    "    if 24.9>=bmi>=18.5:\n",
    "        condition = 'Normal'\n",
    "    if 30>=bmi>=25:\n",
    "        condition = 'Overweight'\n",
    "    if bmi>30:\n",
    "        condition = 'Obese'\n",
    "    print ('Score is',result,'.You are',condition)\n",
    "\n",
    "BMI(175, 96)\n",
    "BMI(152, 48)"
   ]
  },
  {
   "cell_type": "code",
   "execution_count": 15,
   "metadata": {},
   "outputs": [
    {
     "name": "stdout",
     "output_type": "stream",
     "text": [
      "20\n",
      "45\n"
     ]
    }
   ],
   "source": [
    "#Task3\n",
    "def x(minimum,maximum,divisor):    \n",
    "    \n",
    "    sum = 0\n",
    "    for index in range(minimum,maximum):\n",
    "        if index%divisor == 0:\n",
    "            sum += index\n",
    "    print (sum)\n",
    "    \n",
    "x(0, 10, 2)\n",
    "x(3, 16, 3)"
   ]
  },
  {
   "cell_type": "code",
   "execution_count": 25,
   "metadata": {},
   "outputs": [
    {
     "name": "stdout",
     "output_type": "stream",
     "text": [
      "243.6\n",
      "223.6\n"
     ]
    }
   ],
   "source": [
    "#Task4\n",
    "def order (item,location='Mohakhali'):\n",
    "    menu = {'BBQ Chicken Cheese Burger':250,'Beef Burger':170,'Naga Drums':200}\n",
    "    #item = 'Beef Burger'\n",
    "    #location = 'Dhanmondi'\n",
    "    meal_cost = menu[item] \n",
    "    if location == 'Mohakhali':\n",
    "        delivery_charge = 40\n",
    "    else:\n",
    "        delivery_charge = 60\n",
    "    Total_Price = meal_cost + delivery_charge + (0.08*meal_cost)\n",
    "    print (Total_Price)\n",
    "\n",
    "order ('Beef Burger','Dhanmondi')\n",
    "order ('Beef Burger')"
   ]
  },
  {
   "cell_type": "code",
   "execution_count": 44,
   "metadata": {},
   "outputs": [
    {
     "name": "stdout",
     "output_type": "stream",
     "text": [
      "alice@sheba.xyz\n",
      "bob@sheba.xyz\n"
     ]
    }
   ],
   "source": [
    "#task 5\n",
    "def replace(email,new_domain,old_domain='kaaj.com'):\n",
    "\n",
    "    list_email = email.split('@')\n",
    "    #print (list_email)\n",
    "    if list_email[1] == old_domain:\n",
    "        output = list_email[0] + '@' + new_domain\n",
    "        print (output)\n",
    "    else:\n",
    "        print (email)\n",
    "    \n",
    "\n",
    "replace ('alice@kaaj.com','sheba.xyz','kaaj.com')\n",
    "replace ('bob@sheba.xyz','sheba.xyz')"
   ]
  },
  {
   "cell_type": "code",
   "execution_count": 68,
   "metadata": {},
   "outputs": [
    {
     "name": "stdout",
     "output_type": "stream",
     "text": [
      "Vowels: e,e,o, . Total number of vowels: 3\n",
      "No vowels in the name\n"
     ]
    }
   ],
   "source": [
    "#Task6\n",
    "def vowel_founder (input_a):\n",
    "    \n",
    "    #input_a = 'Steve Jobs'\n",
    "    vowels = 'aeiouAEIOU'\n",
    "    output = ''\n",
    "    count = 0\n",
    "    for index in input_a:\n",
    "        #print (index)\n",
    "        if index in vowels:\n",
    "            output += index + ','\n",
    "            count += 1\n",
    "\n",
    "    #print (output)\n",
    "    #print (count)\n",
    "\n",
    "    if len(output) == 0 and count == 0:\n",
    "        print ('No vowels in the name')\n",
    "    else:\n",
    "        print ('Vowels:',output,'. Total number of vowels:',count)\n",
    "\n",
    "vowel_founder ('Steve Jobs')\n",
    "vowel_founder ('XYZ')"
   ]
  },
  {
   "cell_type": "code",
   "execution_count": 89,
   "metadata": {},
   "outputs": [
    {
     "name": "stdout",
     "output_type": "stream",
     "text": [
      "Palindrome\n",
      "Not a palindrome\n",
      "Palindrome\n"
     ]
    }
   ],
   "source": [
    "#Task7\n",
    "def palindrome_checker (string):\n",
    "    #string = 'hello'\n",
    "    new_string = ''\n",
    "    palindrome = False\n",
    "    for index in string:\n",
    "        if index == ' ':\n",
    "            continue\n",
    "        else:\n",
    "            new_string += index\n",
    "    #print (new_string)\n",
    "\n",
    "    for index in range (len(new_string)):\n",
    "        if new_string[index] == new_string[-1]:\n",
    "            palindrome = True\n",
    "        else:\n",
    "            break\n",
    "    if palindrome == True:\n",
    "        print ('Palindrome')\n",
    "    else:\n",
    "        print ('Not a palindrome')\n",
    "\n",
    "palindrome_checker ('madam')\n",
    "palindrome_checker ('hello')\n",
    "palindrome_checker ('nurses run')"
   ]
  },
  {
   "cell_type": "code",
   "execution_count": 101,
   "metadata": {},
   "outputs": [
    {
     "name": "stdout",
     "output_type": "stream",
     "text": [
      "11 years, 10 months and 5 days\n",
      "10 years, 11 months and 20 days\n"
     ]
    }
   ],
   "source": [
    "#Task8\n",
    "def cal (days):\n",
    "    \n",
    "    #days = 4320\n",
    "    years = days//365\n",
    "    #print (years)\n",
    "    remaining_days = days%365\n",
    "    #print (remaining_days)\n",
    "    months = remaining_days//30\n",
    "    #print (months)\n",
    "    remaining_days2 = remaining_days % 30\n",
    "    #print (remaining_days2)\n",
    "    print (years,'years,',months,'months and',remaining_days2,'days')\n",
    "    \n",
    "cal (4320)\n",
    "cal (4000)"
   ]
  },
  {
   "cell_type": "code",
   "execution_count": 140,
   "metadata": {},
   "outputs": [
    {
     "name": "stdout",
     "output_type": "stream",
     "text": [
      "My favourite animal is a dog. A dog has sharp teeth so that it can eat flesh very easily. Do you know my pet dog’s name? I love my pet very much.\n"
     ]
    }
   ],
   "source": [
    "#Task9\n",
    "string1 = 'my favourite animal is a dog. a dog has sharp teeth so that it can eat flesh very easily. do you know my pet dog’s name? i love my pet very much.'\n",
    "string2 = ''\n",
    "x = '.?!'\n",
    "#string1 = ('i am learning to code and i hate it.')\n",
    "found = 0\n",
    "string = string1[0].upper() + string1[1:]\n",
    "#print (string)\n",
    "for index in string:\n",
    "    if index in x:\n",
    "        found = 1\n",
    "        string2 += index\n",
    "    elif found == 1 and index != ' ':\n",
    "        string2 += index.upper()\n",
    "        found = 0\n",
    "    else:\n",
    "        string2 += index\n",
    "#print (string2) \n",
    "y = 'I'\n",
    "string3 = ''\n",
    "for index in range (len(string2)):\n",
    "    if string2[index] == 'i':\n",
    "        if string2[index-1] and string2[index+1] == ' ':\n",
    "            string3 += y\n",
    "        else:\n",
    "            string3 += string2[index]\n",
    "    else:\n",
    "        string3 += string2[index]\n",
    "print (string3)"
   ]
  },
  {
   "cell_type": "code",
   "execution_count": null,
   "metadata": {},
   "outputs": [],
   "source": []
  },
  {
   "cell_type": "code",
   "execution_count": null,
   "metadata": {},
   "outputs": [],
   "source": []
  },
  {
   "cell_type": "code",
   "execution_count": null,
   "metadata": {},
   "outputs": [],
   "source": []
  }
 ],
 "metadata": {
  "kernelspec": {
   "display_name": "Python 3",
   "language": "python",
   "name": "python3"
  },
  "language_info": {
   "codemirror_mode": {
    "name": "ipython",
    "version": 3
   },
   "file_extension": ".py",
   "mimetype": "text/x-python",
   "name": "python",
   "nbconvert_exporter": "python",
   "pygments_lexer": "ipython3",
   "version": "3.8.3"
  }
 },
 "nbformat": 4,
 "nbformat_minor": 4
}
