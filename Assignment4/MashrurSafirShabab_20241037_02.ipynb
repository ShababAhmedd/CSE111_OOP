{
 "cells": [
  {
   "cell_type": "code",
   "execution_count": 11,
   "metadata": {},
   "outputs": [
    {
     "name": "stdout",
     "output_type": "stream",
     "text": [
      "##########################\n",
      "Name: Alice\n",
      "ID: 20103012\n",
      "Department: CSE\n",
      "None\n",
      "##########################\n",
      "Name: Bob\n",
      "ID: 18301254\n",
      "Department: EEE\n",
      "None\n",
      "##########################\n",
      "Alice, you have taken 9.0 credits.\n",
      "List of courses:CSE110, MAT110, PHY111\n",
      "Status: Ok\n",
      "##########################\n",
      "Bob, you have taken 6.0 credits.\n",
      "List of courses:BUS101, MAT120\n",
      "Status: You have to take at least 1 more course.\n",
      "##########################\n",
      "Carol, you have taken 15.0 credits.\n",
      "List of courses:MAT110, PHY111, ENG102, CSE111, CSE230\n",
      "Status: You have to drop at least 1 course.\n"
     ]
    }
   ],
   "source": [
    "class Student:\n",
    "    \n",
    "    def __init__ (self, name, Id, dept):\n",
    "        self.name = name\n",
    "        self.Id = Id\n",
    "        self.dept = dept\n",
    "        \n",
    "    def details(self):\n",
    "        print (\"Name:\",self.name)\n",
    "        print (\"ID:\",self.Id)\n",
    "        print (\"Department:\",self.dept)\n",
    "    \n",
    "    def advise (self,*sub):\n",
    "        self.sub = sub\n",
    "        sum = 0\n",
    "        for index in self.sub:\n",
    "            #print (index)\n",
    "            sum += 3\n",
    "        #print (sum)\n",
    "        print (\"{}, you have taken {} credits.\".format(self.name,float(sum)))\n",
    "        print (\"List of courses:\",end = \"\")\n",
    "        print (*self.sub, sep = \", \")\n",
    "        if 12>=sum>=9:\n",
    "            print (\"Status: Ok\")\n",
    "        elif sum<9:\n",
    "            print (\"Status: You have to take at least 1 more course.\")\n",
    "        elif sum >12:\n",
    "            print (\"Status: You have to drop at least 1 course.\")\n",
    "#============================================================\n",
    "s1 = Student(\"Alice\",\"20103012\",\"CSE\")\n",
    "s2 = Student(\"Bob\", \"18301254\",\"EEE\")\n",
    "s3 = Student(\"Carol\", \"17101238\",\"CSE\")\n",
    "print(\"##########################\")\n",
    "print(s1.details())\n",
    "print(\"##########################\")\n",
    "print(s2.details())\n",
    "print(\"##########################\")\n",
    "s1.advise(\"CSE110\", \"MAT110\", \"PHY111\")\n",
    "print(\"##########################\")\n",
    "s2.advise(\"BUS101\", \"MAT120\")\n",
    "print(\"##########################\")\n",
    "s3.advise(\"MAT110\", \"PHY111\", \"ENG102\", \"CSE111\", \"CSE230\")\n"
   ]
  },
  {
   "cell_type": "code",
   "execution_count": null,
   "metadata": {},
   "outputs": [],
   "source": []
  }
 ],
 "metadata": {
  "kernelspec": {
   "display_name": "Python 3",
   "language": "python",
   "name": "python3"
  },
  "language_info": {
   "codemirror_mode": {
    "name": "ipython",
    "version": 3
   },
   "file_extension": ".py",
   "mimetype": "text/x-python",
   "name": "python",
   "nbconvert_exporter": "python",
   "pygments_lexer": "ipython3",
   "version": "3.8.3"
  }
 },
 "nbformat": 4,
 "nbformat_minor": 4
}
